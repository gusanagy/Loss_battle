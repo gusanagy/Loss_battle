{
 "cells": [
  {
   "cell_type": "markdown",
   "metadata": {},
   "source": [
    "# Treino"
   ]
  },
  {
   "cell_type": "code",
   "execution_count": null,
   "metadata": {},
   "outputs": [],
   "source": [
    "from train_ import train_final\n",
    "train_final(epochs = 10,\\\n",
    "            model_name ='Vit',\\\n",
    "            perceptual_loss = 'vgg11',\\\n",
    "            channel_loss = None,\\\n",
    "            structural_loss= None,\\\n",
    "            dataset_name=\"UIEB\", dataset_path=\"data\",\\\n",
    "            ckpt_out_name=None,\\\n",
    "            )"
   ]
  },
  {
   "cell_type": "code",
   "execution_count": null,
   "metadata": {},
   "outputs": [],
   "source": [
    "from train_ import train_final\n",
    "train_final(epochs = 100,\\\n",
    "            model_name ='Vit',\\\n",
    "            perceptual_loss = None,\\\n",
    "            channel_loss = None,\\\n",
    "            structural_loss= None,\\\n",
    "            dataset_name=\"LSUI\", dataset_path=\"data\",\\\n",
    "            ckpt_out_name=None,\\\n",
    "            )"
   ]
  },
  {
   "cell_type": "code",
   "execution_count": null,
   "metadata": {},
   "outputs": [],
   "source": [
    "from train_ import train_final\n",
    "train_final(epochs = 100,\\\n",
    "            model_name ='Vit',\\\n",
    "            perceptual_loss = None,\\\n",
    "            channel_loss = None,\\\n",
    "            structural_loss= None,\\\n",
    "            dataset_name=\"TURBID\", dataset_path=\"data\",\\\n",
    "            ckpt_out_name=None,\\\n",
    "            )"
   ]
  },
  {
   "cell_type": "markdown",
   "metadata": {},
   "source": [
    "# Teste"
   ]
  },
  {
   "cell_type": "code",
   "execution_count": null,
   "metadata": {},
   "outputs": [],
   "source": [
    "from src.utils import test_one_model\n",
    "test_one_model(model_name='Vit', dataset_name=\"UIEB\", dataset_path=\"data\",\n",
    "               ckpt_path=\"output/ckpt_battle/Vit_UIEB_vgg11_10/Vit_UIEB_vgg11_10.pth\",\n",
    "               save=True, plot=False)"
   ]
  }
 ],
 "metadata": {
  "kernelspec": {
   "display_name": "losstest",
   "language": "python",
   "name": "python3"
  },
  "language_info": {
   "codemirror_mode": {
    "name": "ipython",
    "version": 3
   },
   "file_extension": ".py",
   "mimetype": "text/x-python",
   "name": "python",
   "nbconvert_exporter": "python",
   "pygments_lexer": "ipython3",
   "version": "3.11.6"
  }
 },
 "nbformat": 4,
 "nbformat_minor": 2
}
