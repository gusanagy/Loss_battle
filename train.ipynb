{
 "cells": [
  {
   "cell_type": "code",
   "execution_count": 12,
   "metadata": {},
   "outputs": [
    {
     "name": "stdout",
     "output_type": "stream",
     "text": [
      "14 loss functions to train with\n",
      "3 models to train with\n",
      "\n",
      "Train raw: 712 Train ref: 712 \n",
      "Test raw: 178 Test ref: 178\n",
      "\n",
      "Training: UNet with PerceptualLoss_vgg11\n",
      "  1%|▍                                          | 1/100 [00:15<24:49, 15.04s/it]^C\n",
      "  1%|▍                                          | 1/100 [00:20<34:04, 20.65s/it]\n",
      "Traceback (most recent call last):\n",
      "  File \"/home/pdi_4/Documentos/Loss_battle/train_noddp.py\", line 91, in <module>\n",
      "    train_models(epochs=args.epochs)\n",
      "  File \"/home/pdi_4/Documentos/Loss_battle/train_noddp.py\", line 51, in train_models\n",
      "    optimizer.step()\n",
      "  File \"/home/pdi_4/anaconda3/envs/losstest/lib/python3.11/site-packages/torch/optim/optimizer.py\", line 484, in wrapper\n",
      "    out = func(*args, **kwargs)\n",
      "          ^^^^^^^^^^^^^^^^^^^^^\n",
      "  File \"/home/pdi_4/anaconda3/envs/losstest/lib/python3.11/site-packages/torch/optim/optimizer.py\", line 89, in _use_grad\n",
      "    ret = func(self, *args, **kwargs)\n",
      "          ^^^^^^^^^^^^^^^^^^^^^^^^^^^\n",
      "  File \"/home/pdi_4/anaconda3/envs/losstest/lib/python3.11/site-packages/torch/optim/adamw.py\", line 216, in step\n",
      "    has_complex = self._init_group(\n",
      "                  ^^^^^^^^^^^^^^^^^\n",
      "  File \"/home/pdi_4/anaconda3/envs/losstest/lib/python3.11/site-packages/torch/optim/adamw.py\", line 139, in _init_group\n",
      "    state = self.state[p]\n",
      "            ~~~~~~~~~~^^^\n",
      "  File \"/home/pdi_4/anaconda3/envs/losstest/lib/python3.11/site-packages/torch/_tensor.py\", line 1060, in __hash__\n",
      "    return id(self)\n",
      "           ^^^^^^^^\n",
      "KeyboardInterrupt\n"
     ]
    }
   ],
   "source": [
    "!python train_noddp.py "
   ]
  },
  {
   "cell_type": "markdown",
   "metadata": {},
   "source": [
    "### torch run multi gpu"
   ]
  },
  {
   "cell_type": "code",
   "execution_count": null,
   "metadata": {},
   "outputs": [],
   "source": [
    "!torchrun --nnodes=2 --nproc_per_node=2 --node_rank=0 --master_addr=\"10.228.252.209\" --master_port=22 main.py --nodes=2 --gpus=2 --epochs=100"
   ]
  },
  {
   "cell_type": "markdown",
   "metadata": {},
   "source": [
    "### torchrun local"
   ]
  },
  {
   "cell_type": "code",
   "execution_count": null,
   "metadata": {},
   "outputs": [],
   "source": [
    "!torchrun --nproc_per_node=2 main.py --nodes=1 --gpus=2 --epochs=100"
   ]
  }
 ],
 "metadata": {
  "kernelspec": {
   "display_name": "losstest",
   "language": "python",
   "name": "python3"
  },
  "language_info": {
   "codemirror_mode": {
    "name": "ipython",
    "version": 3
   },
   "file_extension": ".py",
   "mimetype": "text/x-python",
   "name": "python",
   "nbconvert_exporter": "python",
   "pygments_lexer": "ipython3",
   "version": "3.11.6"
  }
 },
 "nbformat": 4,
 "nbformat_minor": 2
}
