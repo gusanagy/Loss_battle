{
 "cells": [
  {
   "cell_type": "code",
   "execution_count": 13,
   "metadata": {},
   "outputs": [
    {
     "name": "stdout",
     "output_type": "stream",
     "text": [
      "14 loss functions to train with\n",
      "3 models to train with\n",
      "\n",
      "Train raw: 712 Train ref: 712 \n",
      "Test raw: 178 Test ref: 178\n",
      "\n",
      "Training: UNet with PerceptualLoss_vgg11\n",
      "100%|█████████████████████████████████████████| 100/100 [23:31<00:00, 14.12s/it]\n",
      "Testando o modelo UNet_PerceptualLoss_vgg11\n",
      "0it [00:00, ?it/s]\n",
      "Traceback (most recent call last):\n",
      "  File \"/home/pdi_4/Documentos/Loss_battle/train_noddp.py\", line 91, in <module>\n",
      "    train_models(epochs=args.epochs)\n",
      "  File \"/home/pdi_4/Documentos/Loss_battle/train_noddp.py\", line 69, in train_models\n",
      "    psnr_value, ssim_value, uciqe_, uiqm = calculate_metrics(predictions, target)\n",
      "                                           ^^^^^^^^^^^^^^^^^^^^^^^^^^^^^^^^^^^^^^\n",
      "  File \"/home/pdi_4/Documentos/Loss_battle/metrics/metrics.py\", line 472, in calculate_metrics\n",
      "    uciqe_ = uciqe(nargin=1,loc=corrected)#usarei este\n",
      "             ^^^^^^^^^^^^^^^^^^^^^^^^^^^^^\n",
      "  File \"/home/pdi_4/Documentos/Loss_battle/metrics/metrics.py\", line 39, in uciqe\n",
      "    img_lab = cv2.cvtColor(loc, cv2.COLOR_BGR2LAB)  # Transform to Lab color space\n",
      "              ^^^^^^^^^^^^^^^^^^^^^^^^^^^^^^^^^^^^\n",
      "cv2.error: OpenCV(4.7.0) /home/conda/feedstock_root/build_artifacts/libopencv_1675729943781/work/modules/imgproc/src/color.simd_helpers.hpp:92: error: (-2:Unspecified error) in function 'cv::impl::{anonymous}::CvtHelper<VScn, VDcn, VDepth, sizePolicy>::CvtHelper(cv::InputArray, cv::OutputArray, int) [with VScn = cv::impl::{anonymous}::Set<3, 4>; VDcn = cv::impl::{anonymous}::Set<3>; VDepth = cv::impl::{anonymous}::Set<0, 5>; cv::impl::{anonymous}::SizePolicy sizePolicy = cv::impl::<unnamed>::NONE; cv::InputArray = const cv::_InputArray&; cv::OutputArray = const cv::_OutputArray&]'\n",
      "> Invalid number of channels in input image:\n",
      ">     'VScn::contains(scn)'\n",
      "> where\n",
      ">     'scn' is 1\n",
      "\n"
     ]
    }
   ],
   "source": [
    "!python train_noddp.py "
   ]
  },
  {
   "cell_type": "code",
   "execution_count": 15,
   "metadata": {},
   "outputs": [
    {
     "name": "stdout",
     "output_type": "stream",
     "text": [
      "UNet_PerceptualLoss_vgg11_ckpt\n"
     ]
    }
   ],
   "source": [
    "# Definir a string do caminho\n",
    "path = \"output/ckpt_battle/UNet_PerceptualLoss_vgg11_ckpt.pth\"\n",
    "\n",
    "# Dividir a string usando '/' como delimitador e selecionar o último elemento\n",
    "filename = path.split('/')[-1].split('.')[0]\n",
    "\n",
    "# Imprimir o resultado\n",
    "print(filename)  "
   ]
  },
  {
   "cell_type": "markdown",
   "metadata": {},
   "source": [
    "### torch run multi gpu"
   ]
  },
  {
   "cell_type": "code",
   "execution_count": null,
   "metadata": {},
   "outputs": [],
   "source": [
    "!torchrun --nnodes=2 --nproc_per_node=2 --node_rank=0 --master_addr=\"10.228.252.209\" --master_port=22 main.py --nodes=2 --gpus=2 --epochs=100"
   ]
  },
  {
   "cell_type": "markdown",
   "metadata": {},
   "source": [
    "### torchrun local"
   ]
  },
  {
   "cell_type": "code",
   "execution_count": null,
   "metadata": {},
   "outputs": [],
   "source": [
    "!torchrun --nproc_per_node=2 main.py --nodes=1 --gpus=2 --epochs=100"
   ]
  }
 ],
 "metadata": {
  "kernelspec": {
   "display_name": "losstest",
   "language": "python",
   "name": "python3"
  },
  "language_info": {
   "codemirror_mode": {
    "name": "ipython",
    "version": 3
   },
   "file_extension": ".py",
   "mimetype": "text/x-python",
   "name": "python",
   "nbconvert_exporter": "python",
   "pygments_lexer": "ipython3",
   "version": "3.11.6"
  }
 },
 "nbformat": 4,
 "nbformat_minor": 2
}
